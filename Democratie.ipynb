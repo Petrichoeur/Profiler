{
  "nbformat": 4,
  "nbformat_minor": 0,
  "metadata": {
    "colab": {
      "name": "Democratie ",
      "provenance": [],
      "toc_visible": true,
      "machine_shape": "hm",
      "authorship_tag": "ABX9TyOJNqLZy3lZoanP773OqmcK",
      "include_colab_link": true
    },
    "kernelspec": {
      "name": "python3",
      "display_name": "Python 3"
    }
  },
  "cells": [
    {
      "cell_type": "markdown",
      "metadata": {
        "id": "view-in-github",
        "colab_type": "text"
      },
      "source": [
        "<a href=\"https://colab.research.google.com/github/acanetti/Profiler/blob/master/Democratie.ipynb\" target=\"_parent\"><img src=\"https://colab.research.google.com/assets/colab-badge.svg\" alt=\"Open In Colab\"/></a>"
      ]
    },
    {
      "cell_type": "code",
      "metadata": {
        "id": "6IvfUmQGMIB9",
        "colab_type": "code",
        "outputId": "e45f1968-590a-4799-d097-231a35f8aa2b",
        "colab": {
          "base_uri": "https://localhost:8080/",
          "height": 139
        }
      },
      "source": [
        "! pip install wiktionaryparser # Installation parser "
      ],
      "execution_count": 47,
      "outputs": [
        {
          "output_type": "stream",
          "text": [
            "Requirement already satisfied: wiktionaryparser in /usr/local/lib/python3.6/dist-packages (0.0.97)\n",
            "Requirement already satisfied: requests in /usr/local/lib/python3.6/dist-packages (from wiktionaryparser) (2.21.0)\n",
            "Requirement already satisfied: beautifulsoup4 in /usr/local/lib/python3.6/dist-packages (from wiktionaryparser) (4.6.3)\n",
            "Requirement already satisfied: urllib3<1.25,>=1.21.1 in /usr/local/lib/python3.6/dist-packages (from requests->wiktionaryparser) (1.24.3)\n",
            "Requirement already satisfied: certifi>=2017.4.17 in /usr/local/lib/python3.6/dist-packages (from requests->wiktionaryparser) (2019.11.28)\n",
            "Requirement already satisfied: idna<2.9,>=2.5 in /usr/local/lib/python3.6/dist-packages (from requests->wiktionaryparser) (2.8)\n",
            "Requirement already satisfied: chardet<3.1.0,>=3.0.2 in /usr/local/lib/python3.6/dist-packages (from requests->wiktionaryparser) (3.0.4)\n"
          ],
          "name": "stdout"
        }
      ]
    },
    {
      "cell_type": "code",
      "metadata": {
        "id": "MdtB_uRYMSyS",
        "colab_type": "code",
        "outputId": "ad090196-626e-4357-95cf-536898e7b668",
        "colab": {
          "base_uri": "https://localhost:8080/",
          "height": 34
        }
      },
      "source": [
        "import pandas as pd \n",
        "import numpy as np \n",
        "import os  \n",
        "PATH ='drive/My Drive/data' \n",
        "from time import sleep\n",
        "from IPython.display import clear_output, display \n",
        "import multiprocessing\n",
        "import threading \n",
        "import wiktionaryparser as Wikpars\n",
        "from multiprocessing import Process, Value, Array\n",
        "import builtins\n",
        "print(' core available ' , multiprocessing.cpu_count() ) "
      ],
      "execution_count": 48,
      "outputs": [
        {
          "output_type": "stream",
          "text": [
            " core available  4\n"
          ],
          "name": "stdout"
        }
      ]
    },
    {
      "cell_type": "code",
      "metadata": {
        "id": "QYr2DIPZMW7w",
        "colab_type": "code",
        "outputId": "db2476dd-62d3-4a0d-b3d5-18f1b83f28f8",
        "colab": {
          "base_uri": "https://localhost:8080/",
          "height": 34
        }
      },
      "source": [
        "from google.colab import drive\n",
        "drive.mount('/content/drive')"
      ],
      "execution_count": 49,
      "outputs": [
        {
          "output_type": "stream",
          "text": [
            "Drive already mounted at /content/drive; to attempt to forcibly remount, call drive.mount(\"/content/drive\", force_remount=True).\n"
          ],
          "name": "stdout"
        }
      ]
    },
    {
      "cell_type": "markdown",
      "metadata": {
        "id": "HjtsIa0kjt06",
        "colab_type": "text"
      },
      "source": [
        "# Import données Démocratie "
      ]
    },
    {
      "cell_type": "code",
      "metadata": {
        "id": "DWMwxFNhNf2C",
        "colab_type": "code",
        "outputId": "62f78819-1fef-4921-c933-5878aa8c0fa2",
        "colab": {
          "base_uri": "https://localhost:8080/",
          "height": 72
        }
      },
      "source": [
        "df=pd.read_csv(PATH + '/democratie_clean.csv')"
      ],
      "execution_count": 50,
      "outputs": [
        {
          "output_type": "stream",
          "text": [
            "/usr/local/lib/python3.6/dist-packages/IPython/core/interactiveshell.py:2718: DtypeWarning: Columns (2) have mixed types. Specify dtype option on import or set low_memory=False.\n",
            "  interactivity=interactivity, compiler=compiler, result=result)\n"
          ],
          "name": "stderr"
        }
      ]
    },
    {
      "cell_type": "code",
      "metadata": {
        "id": "VFFtNH66Qox2",
        "colab_type": "code",
        "outputId": "4a0d4830-54f3-4797-d2eb-0234549976a7",
        "colab": {
          "base_uri": "https://localhost:8080/",
          "height": 341
        }
      },
      "source": [
        "df.head(2)"
      ],
      "execution_count": 0,
      "outputs": [
        {
          "output_type": "execute_result",
          "data": {
            "text/html": [
              "<div>\n",
              "<style scoped>\n",
              "    .dataframe tbody tr th:only-of-type {\n",
              "        vertical-align: middle;\n",
              "    }\n",
              "\n",
              "    .dataframe tbody tr th {\n",
              "        vertical-align: top;\n",
              "    }\n",
              "\n",
              "    .dataframe thead th {\n",
              "        text-align: right;\n",
              "    }\n",
              "</style>\n",
              "<table border=\"1\" class=\"dataframe\">\n",
              "  <thead>\n",
              "    <tr style=\"text-align: right;\">\n",
              "      <th></th>\n",
              "      <th>Unnamed: 0</th>\n",
              "      <th>title</th>\n",
              "      <th>authorZipCode</th>\n",
              "      <th>Q_0</th>\n",
              "      <th>Q_1</th>\n",
              "      <th>Q_2</th>\n",
              "      <th>Q_3</th>\n",
              "      <th>Q_4</th>\n",
              "      <th>Q_5</th>\n",
              "      <th>Q_6</th>\n",
              "      <th>Q_7</th>\n",
              "      <th>Q_8</th>\n",
              "      <th>Q_9</th>\n",
              "      <th>Q_10</th>\n",
              "      <th>Q_11</th>\n",
              "      <th>Q_12</th>\n",
              "      <th>Q_13</th>\n",
              "      <th>Q_14</th>\n",
              "      <th>Q_15</th>\n",
              "      <th>Q_16</th>\n",
              "      <th>Q_17</th>\n",
              "      <th>Q_18</th>\n",
              "      <th>Q_19</th>\n",
              "      <th>Q_20</th>\n",
              "      <th>Q_21</th>\n",
              "      <th>Q_22</th>\n",
              "      <th>Q_23</th>\n",
              "      <th>Q_24</th>\n",
              "      <th>Q_25</th>\n",
              "      <th>Q_26</th>\n",
              "      <th>Q_27</th>\n",
              "      <th>Q_28</th>\n",
              "      <th>Q_29</th>\n",
              "      <th>Q_30</th>\n",
              "      <th>Q_31</th>\n",
              "      <th>Q_32</th>\n",
              "      <th>Q_33</th>\n",
              "      <th>Q_34</th>\n",
              "      <th>Q_35</th>\n",
              "      <th>Q_36</th>\n",
              "    </tr>\n",
              "  </thead>\n",
              "  <tbody>\n",
              "    <tr>\n",
              "      <th>0</th>\n",
              "      <td>0</td>\n",
              "      <td>Les augmentations de rémunérations</td>\n",
              "      <td>79190</td>\n",
              "      <td>Le citoyen</td>\n",
              "      <td>Non</td>\n",
              "      <td>//</td>\n",
              "      <td>//</td>\n",
              "      <td>//</td>\n",
              "      <td>//</td>\n",
              "      <td>//</td>\n",
              "      <td>//</td>\n",
              "      <td>//</td>\n",
              "      <td>//</td>\n",
              "      <td>//</td>\n",
              "      <td>//</td>\n",
              "      <td>//</td>\n",
              "      <td>//</td>\n",
              "      <td>//</td>\n",
              "      <td>//</td>\n",
              "      <td>//</td>\n",
              "      <td>//</td>\n",
              "      <td>//</td>\n",
              "      <td>//</td>\n",
              "      <td>//</td>\n",
              "      <td>//</td>\n",
              "      <td>//</td>\n",
              "      <td>//</td>\n",
              "      <td>//</td>\n",
              "      <td>//</td>\n",
              "      <td>//</td>\n",
              "      <td>//</td>\n",
              "      <td>//</td>\n",
              "      <td>//</td>\n",
              "      <td>//</td>\n",
              "      <td>//</td>\n",
              "      <td>//</td>\n",
              "      <td>//</td>\n",
              "      <td>//</td>\n",
              "      <td>//</td>\n",
              "      <td>Afin d’éviter de creuser les inégalités ne plu...</td>\n",
              "    </tr>\n",
              "    <tr>\n",
              "      <th>1</th>\n",
              "      <td>1</td>\n",
              "      <td>rénover l'enquête publique pour en faire un vr...</td>\n",
              "      <td>1800</td>\n",
              "      <td>Un instrument de démocratie locale à modernise...</td>\n",
              "      <td>//</td>\n",
              "      <td>//</td>\n",
              "      <td>//</td>\n",
              "      <td>//</td>\n",
              "      <td>//</td>\n",
              "      <td>//</td>\n",
              "      <td>//</td>\n",
              "      <td>//</td>\n",
              "      <td>//</td>\n",
              "      <td>//</td>\n",
              "      <td>//</td>\n",
              "      <td>//</td>\n",
              "      <td>//</td>\n",
              "      <td>//</td>\n",
              "      <td>//</td>\n",
              "      <td>//</td>\n",
              "      <td>//</td>\n",
              "      <td>//</td>\n",
              "      <td>//</td>\n",
              "      <td>//</td>\n",
              "      <td>//</td>\n",
              "      <td>//</td>\n",
              "      <td>//</td>\n",
              "      <td>//</td>\n",
              "      <td>//</td>\n",
              "      <td>//</td>\n",
              "      <td>//</td>\n",
              "      <td>//</td>\n",
              "      <td>//</td>\n",
              "      <td>//</td>\n",
              "      <td>//</td>\n",
              "      <td>//</td>\n",
              "      <td>//</td>\n",
              "      <td>//</td>\n",
              "      <td>//</td>\n",
              "      <td>//</td>\n",
              "    </tr>\n",
              "  </tbody>\n",
              "</table>\n",
              "</div>"
            ],
            "text/plain": [
              "   Unnamed: 0  ...                                               Q_36\n",
              "0           0  ...  Afin d’éviter de creuser les inégalités ne plu...\n",
              "1           1  ...                                                 //\n",
              "\n",
              "[2 rows x 40 columns]"
            ]
          },
          "metadata": {
            "tags": []
          },
          "execution_count": 5
        }
      ]
    },
    {
      "cell_type": "markdown",
      "metadata": {
        "id": "8hZEMmVVj1cA",
        "colab_type": "text"
      },
      "source": [
        "## Concatenation de toute les colonnes pour créer dictionnaire "
      ]
    },
    {
      "cell_type": "code",
      "metadata": {
        "id": "QALp42GxOdr1",
        "colab_type": "code",
        "colab": {}
      },
      "source": [
        "concat_all='' \n",
        "for i in range(37): \n",
        "    concat_all += df[f'Q_{i}'] + ' % '"
      ],
      "execution_count": 0,
      "outputs": []
    },
    {
      "cell_type": "code",
      "metadata": {
        "id": "Xwc_vN_DO0LF",
        "colab_type": "code",
        "colab": {}
      },
      "source": [
        "concat_np = concat_all.values"
      ],
      "execution_count": 0,
      "outputs": []
    },
    {
      "cell_type": "markdown",
      "metadata": {
        "id": "tQWsz5nZj4lW",
        "colab_type": "text"
      },
      "source": [
        "# Word Vectorizer "
      ]
    },
    {
      "cell_type": "code",
      "metadata": {
        "id": "z5uCYkZpPGmv",
        "colab_type": "code",
        "colab": {}
      },
      "source": [
        "from sklearn.feature_extraction.text import TfidfVectorizer"
      ],
      "execution_count": 0,
      "outputs": []
    },
    {
      "cell_type": "code",
      "metadata": {
        "id": "kt98IQvGQkGO",
        "colab_type": "code",
        "colab": {}
      },
      "source": [
        "vectorizer=TfidfVectorizer()\n",
        "vectoriser_alpha = TfidfVectorizer()"
      ],
      "execution_count": 0,
      "outputs": []
    },
    {
      "cell_type": "code",
      "metadata": {
        "id": "jzsyTnuFWPW4",
        "colab_type": "code",
        "colab": {}
      },
      "source": [
        "X = vectorizer.fit_transform(concat_np)"
      ],
      "execution_count": 0,
      "outputs": []
    },
    {
      "cell_type": "code",
      "metadata": {
        "id": "hhk6OQyCWS-H",
        "colab_type": "code",
        "outputId": "f4ea8cce-11c8-42df-cff9-c825d8fb294f",
        "colab": {
          "base_uri": "https://localhost:8080/",
          "height": 34
        }
      },
      "source": [
        "print( f' nombre de mots dans dictionnaire {len(vectorizer.get_feature_names())}')"
      ],
      "execution_count": 0,
      "outputs": [
        {
          "output_type": "stream",
          "text": [
            " nombre de mots dans dictionnaire 170080\n"
          ],
          "name": "stdout"
        }
      ]
    },
    {
      "cell_type": "code",
      "metadata": {
        "id": "b0Er_04aWvSr",
        "colab_type": "code",
        "colab": {}
      },
      "source": [
        "List_dic = np.array(vectorizer.get_feature_names()) # Création de l'array des elements "
      ],
      "execution_count": 0,
      "outputs": []
    },
    {
      "cell_type": "code",
      "metadata": {
        "id": "BedFRCb8Y_5X",
        "colab_type": "code",
        "colab": {}
      },
      "source": [
        "Alpha_dex= [List_dic[i].isalpha() for i in range(len(List_dic))] # Récupération des elements alphabétique seulement \n",
        "alpha_voc = List_dic[Alpha_dex]"
      ],
      "execution_count": 0,
      "outputs": []
    },
    {
      "cell_type": "code",
      "metadata": {
        "id": "ghxk22ApZN8J",
        "colab_type": "code",
        "colab": {}
      },
      "source": [
        ""
      ],
      "execution_count": 0,
      "outputs": []
    },
    {
      "cell_type": "code",
      "metadata": {
        "id": "HGv8iiinZUO6",
        "colab_type": "code",
        "colab": {}
      },
      "source": [
        ""
      ],
      "execution_count": 0,
      "outputs": []
    },
    {
      "cell_type": "markdown",
      "metadata": {
        "id": "sd8V0ilgMCrS",
        "colab_type": "text"
      },
      "source": [
        ""
      ]
    },
    {
      "cell_type": "code",
      "metadata": {
        "id": "oGfRHdb7j_r2",
        "colab_type": "code",
        "colab": {}
      },
      "source": [
        "size = len(alpha_voc)\n",
        "def type_finder( x : str  ) -> str:\n",
        "    \n",
        "    tmp='NULL'\n",
        "    parser = Wikpars.WiktionaryParser()  \n",
        "    parser.set_default_language('french')\n",
        "    word = parser.fetch(x)  \n",
        "    try : \n",
        "        tmp= word[0]['definitions'][0]['partOfSpeech'] \n",
        "    except : pass  \n",
        "    return tmp \n"
      ],
      "execution_count": 0,
      "outputs": []
    },
    {
      "cell_type": "code",
      "metadata": {
        "id": "pevi-Lq_o1hg",
        "colab_type": "code",
        "colab": {}
      },
      "source": [
        "\n",
        "size = len(alpha_voc)\n",
        "strArr = np.empty(size, dtype='<U2186')\n",
        " \n",
        "def testy(start,stop): \n",
        "    \n",
        "    for val in range(start,stop) :    \n",
        "       \n",
        "        Dict[alpha_voc[val]] = type_finder(alpha_voc[val])\n",
        "        proc_name = multiprocessing.current_process().name \n",
        "        clear_output(wait=False)\n"
      ],
      "execution_count": 0,
      "outputs": []
    },
    {
      "cell_type": "code",
      "metadata": {
        "id": "E3TJen8ytZDB",
        "colab_type": "code",
        "colab": {}
      },
      "source": [
        "def Create_process(core : int = multiprocessing.cpu_count() ) -> list : \n",
        "    manager = multiprocessing.Manager()\n",
        "    global Dict \n",
        "    Dict = manager.dict() \n",
        "    \n",
        "    process_list=[]\n",
        "    size = len(alpha_voc) // core \n",
        "    step = core \n",
        "    for i in range(core): \n",
        "        proc=multiprocessing.Process(target=testy, args=(int(size*i),int(size*(i+1)))) \n",
        "        process_list.append(proc)  \n",
        "    \n",
        "    return process_list\n",
        "\n",
        "\n"
      ],
      "execution_count": 0,
      "outputs": []
    },
    {
      "cell_type": "code",
      "metadata": {
        "id": "hRV2jm_wq1po",
        "colab_type": "code",
        "colab": {}
      },
      "source": [
        ""
      ],
      "execution_count": 0,
      "outputs": []
    },
    {
      "cell_type": "code",
      "metadata": {
        "id": "gHkytflk7g6B",
        "colab_type": "code",
        "colab": {}
      },
      "source": [
        "Proc = Create_process()"
      ],
      "execution_count": 0,
      "outputs": []
    },
    {
      "cell_type": "code",
      "metadata": {
        "id": "Ruy71b8d7qfy",
        "colab_type": "code",
        "colab": {}
      },
      "source": [
        "for pro in Proc: \n",
        "    pro.start()"
      ],
      "execution_count": 0,
      "outputs": []
    },
    {
      "cell_type": "code",
      "metadata": {
        "id": "v1cW62BhOBQs",
        "colab_type": "code",
        "outputId": "8dccf6a4-81d4-46b2-bcc3-ddc915862ee2",
        "colab": {
          "base_uri": "https://localhost:8080/",
          "height": 34
        }
      },
      "source": [
        "Proc[3].is_alive()"
      ],
      "execution_count": 0,
      "outputs": [
        {
          "output_type": "execute_result",
          "data": {
            "text/plain": [
              "True"
            ]
          },
          "metadata": {
            "tags": []
          },
          "execution_count": 29
        }
      ]
    },
    {
      "cell_type": "code",
      "metadata": {
        "id": "VyoV63F4lCLa",
        "colab_type": "code",
        "outputId": "f2c9bb95-85f8-4545-8746-2eb41e99d191",
        "colab": {
          "base_uri": "https://localhost:8080/",
          "height": 34
        }
      },
      "source": [
        "len(Dict)"
      ],
      "execution_count": 0,
      "outputs": [
        {
          "output_type": "execute_result",
          "data": {
            "text/plain": [
              "71305"
            ]
          },
          "metadata": {
            "tags": []
          },
          "execution_count": 53
        }
      ]
    },
    {
      "cell_type": "code",
      "metadata": {
        "id": "lVY6zcI3lphC",
        "colab_type": "code",
        "outputId": "9bdc73dd-e5ac-41b0-8893-5b31aa94fdb0",
        "colab": {
          "base_uri": "https://localhost:8080/",
          "height": 34
        }
      },
      "source": [
        "multiprocessing.current_process()"
      ],
      "execution_count": 0,
      "outputs": [
        {
          "output_type": "execute_result",
          "data": {
            "text/plain": [
              "<_MainProcess(MainProcess, started)>"
            ]
          },
          "metadata": {
            "tags": []
          },
          "execution_count": 40
        }
      ]
    },
    {
      "cell_type": "code",
      "metadata": {
        "id": "IHFjoLA3pY0b",
        "colab_type": "code",
        "outputId": "9edb1bfd-db9f-486c-e722-5b47986820be",
        "colab": {
          "base_uri": "https://localhost:8080/",
          "height": 34
        }
      },
      "source": [
        "Proc[3].is_alive()"
      ],
      "execution_count": 0,
      "outputs": [
        {
          "output_type": "execute_result",
          "data": {
            "text/plain": [
              "True"
            ]
          },
          "metadata": {
            "tags": []
          },
          "execution_count": 58
        }
      ]
    },
    {
      "cell_type": "code",
      "metadata": {
        "id": "TPfS9vtSDa9F",
        "colab_type": "code",
        "outputId": "7840dc87-1b4c-45da-c86a-2cc1b0d77716",
        "colab": {
          "base_uri": "https://localhost:8080/",
          "height": 34
        }
      },
      "source": [
        "!!git push -u origin master"
      ],
      "execution_count": 91,
      "outputs": [
        {
          "output_type": "execute_result",
          "data": {
            "text/plain": [
              "['fatal: not a git repository (or any of the parent directories): .git']"
            ]
          },
          "metadata": {
            "tags": []
          },
          "execution_count": 91
        }
      ]
    },
    {
      "cell_type": "code",
      "metadata": {
        "id": "gjlwbZeYDjkL",
        "colab_type": "code",
        "colab": {}
      },
      "source": [
        ""
      ],
      "execution_count": 0,
      "outputs": []
    }
  ]
}